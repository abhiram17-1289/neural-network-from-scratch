{
 "cells": [
  {
   "cell_type": "code",
   "execution_count": 1,
   "metadata": {},
   "outputs": [],
   "source": [
    "#Using this file as a companion for Implementing Deep Neural Network from scratch"
   ]
  },
  {
   "cell_type": "code",
   "execution_count": 2,
   "metadata": {},
   "outputs": [
    {
     "name": "stderr",
     "output_type": "stream",
     "text": [
      "c:\\Users\\Abhirama Karthikeya\\anaconda3\\lib\\site-packages\\scipy\\__init__.py:146: UserWarning: A NumPy version >=1.16.5 and <1.23.0 is required for this version of SciPy (detected version 1.26.0\n",
      "  warnings.warn(f\"A NumPy version >={np_minversion} and <{np_maxversion}\"\n"
     ]
    },
    {
     "name": "stdout",
     "output_type": "stream",
     "text": [
      "WARNING:tensorflow:From c:\\Users\\Abhirama Karthikeya\\anaconda3\\lib\\site-packages\\keras\\src\\losses.py:2976: The name tf.losses.sparse_softmax_cross_entropy is deprecated. Please use tf.compat.v1.losses.sparse_softmax_cross_entropy instead.\n",
      "\n"
     ]
    }
   ],
   "source": [
    "import numpy as np\n",
    "import matplotlib.pyplot as plt\n",
    "import tensorflow as tf\n",
    "from nn_from_scratch import initialize_params, forward_linear, forward_activation, forward_propagation, compute_cost, backward_linear, backward_activation, backward_propagation, update_parameters"
   ]
  },
  {
   "cell_type": "code",
   "execution_count": 3,
   "metadata": {},
   "outputs": [],
   "source": [
    "#Load the sample data. I am using Fashion MNSIT for a relatively simple binary classification task\n",
    "(X_train, y_train), (X_test, y_test) = tf.keras.datasets.fashion_mnist.load_data()"
   ]
  },
  {
   "cell_type": "code",
   "execution_count": 4,
   "metadata": {},
   "outputs": [],
   "source": [
    "#Fashion contains greyscale images of 10 different clothing items. For our Binary Classification task, we will only select two classes\n",
    "binary_classes = [0, 1]\n",
    "\n",
    "#Using pipe separator for element wise logical operation. \"or\" expects single boolean values, not arrays\n",
    "train_filter = (y_train == 0) | (y_train == 1)\n",
    "test_filter = (y_test == 0) | (y_test == 1)"
   ]
  },
  {
   "cell_type": "code",
   "execution_count": 5,
   "metadata": {},
   "outputs": [
    {
     "name": "stdout",
     "output_type": "stream",
     "text": [
      "Shape of X_Train (60000, 28, 28)\n",
      "Shape of y_Train (60000,)\n",
      "Shape of X_Test (10000, 28, 28)\n",
      "Shape of y_Test (10000,)\n"
     ]
    }
   ],
   "source": [
    "print(\"Shape of X_Train\", X_train.shape)\n",
    "print(\"Shape of y_Train\", y_train.shape)\n",
    "print(\"Shape of X_Test\", X_test.shape)\n",
    "print(\"Shape of y_Test\", y_test.shape)"
   ]
  },
  {
   "cell_type": "code",
   "execution_count": 6,
   "metadata": {},
   "outputs": [],
   "source": [
    "X_train, y_train = X_train[train_filter], y_train[train_filter]\n",
    "X_test, y_test = X_test[test_filter], y_test[test_filter]"
   ]
  },
  {
   "cell_type": "code",
   "execution_count": 7,
   "metadata": {},
   "outputs": [
    {
     "name": "stdout",
     "output_type": "stream",
     "text": [
      "Shape of X_Train (12000, 28, 28)\n",
      "Shape of y_Train (12000,)\n",
      "Shape of X_Test (2000, 28, 28)\n",
      "Shape of y_Test (2000,)\n"
     ]
    }
   ],
   "source": [
    "print(\"Shape of X_Train\", X_train.shape)\n",
    "print(\"Shape of y_Train\", y_train.shape)\n",
    "print(\"Shape of X_Test\", X_test.shape)\n",
    "print(\"Shape of y_Test\", y_test.shape)"
   ]
  },
  {
   "cell_type": "code",
   "execution_count": 8,
   "metadata": {},
   "outputs": [],
   "source": [
    "#Currently our images are 2D (28x28). We add a channel (like RGB, but here it is just 1 because it is greyscale) for consistency when using frameworks\n",
    "X_train = X_train[..., np.newaxis]\n",
    "X_test = X_test[..., np.newaxis]"
   ]
  },
  {
   "cell_type": "code",
   "execution_count": 9,
   "metadata": {},
   "outputs": [
    {
     "name": "stdout",
     "output_type": "stream",
     "text": [
      "Shape of X_Train (12000, 28, 28, 1)\n",
      "Shape of y_Train (12000,)\n",
      "Shape of X_Test (2000, 28, 28, 1)\n",
      "Shape of y_Test (2000,)\n"
     ]
    }
   ],
   "source": [
    "print(\"Shape of X_Train\", X_train.shape)\n",
    "print(\"Shape of y_Train\", y_train.shape)\n",
    "print(\"Shape of X_Test\", X_test.shape)\n",
    "print(\"Shape of y_Test\", y_test.shape)"
   ]
  },
  {
   "cell_type": "code",
   "execution_count": 10,
   "metadata": {},
   "outputs": [],
   "source": [
    "#Flatten the images so that they are 1D vectors. Use -1 placeholder to tell the library to automatically calculate the dimension based on the other specified dimensions.\n",
    "#Transpose the arrays so that the shape becomes (num_pixels, num_images)\n",
    "X_train_flatten = X_train.reshape(X_train.shape[0], -1).T\n",
    "X_test_flatten = X_test.reshape(X_test.shape[0], -1).T\n",
    "\n",
    "#Normalize the images. Simple enough dataset, Divide by 255 so that each pixel will have value between 0 and 1\n",
    "X_train = X_train_flatten / 255.0\n",
    "X_test = X_test_flatten / 255.0\n",
    "\n",
    "#Reshape Y so that it is of the shape (1,m)\n",
    "y_train = y_train.reshape(1, 12000)\n",
    "y_test = y_test.reshape(1, 2000)"
   ]
  },
  {
   "cell_type": "code",
   "execution_count": 11,
   "metadata": {},
   "outputs": [
    {
     "name": "stdout",
     "output_type": "stream",
     "text": [
      "Shape of X_Train (784, 12000)\n",
      "Shape of y_Train (1, 12000)\n",
      "Shape of X_Test (784, 2000)\n",
      "Shape of y_Test (1, 2000)\n"
     ]
    }
   ],
   "source": [
    "#Shape will be 28*28*1 because of -1 placeholder\n",
    "print(\"Shape of X_Train\", X_train.shape)\n",
    "print(\"Shape of y_Train\", y_train.shape)\n",
    "print(\"Shape of X_Test\", X_test.shape)\n",
    "print(\"Shape of y_Test\", y_test.shape)"
   ]
  },
  {
   "cell_type": "code",
   "execution_count": 12,
   "metadata": {},
   "outputs": [],
   "source": [
    "#Implementing the L-layer neural network\n",
    "#Define Network Achitecture\n",
    "layers = [784, 18, 12, 6, 1] #5 layer model with 784 input features. \n",
    "\n",
    "def model(X, Y, layers, learning_rate = 0.005, iterations = 3000, print_cost = True):\n",
    "    \"\"\"\n",
    "    Implements a L-layer neural network based on layers\n",
    "    \n",
    "    Inputs -- X, Y, layers, learning_rate, number of iterations of GD, print cost after some iterations (True/False)\n",
    "    \n",
    "    Returns:\n",
    "    parameters -- parameters learnt by the model. They can then be used to predict.\n",
    "    \"\"\"\n",
    "    costs = []\n",
    "    #Initialize the parameters\n",
    "    parameters = initialize_params(layers)\n",
    "\n",
    "    for i in range(iterations):\n",
    "\n",
    "        AL, caches = forward_propagation(X, parameters)\n",
    "        cost = compute_cost(AL, Y)\n",
    "        grads = backward_propagation(AL, Y, caches)\n",
    "\n",
    "        #Update parameters\n",
    "        parameters = update_parameters(parameters, grads, learning_rate)\n",
    "\n",
    "        if print_cost and (i % 200 == 0 or i == iterations - 1):\n",
    "            print(f\"Cost after {i} iterations is \", cost)\n",
    "        if i % 500 == 0 or i == iterations - 1:\n",
    "            costs.append(cost)\n",
    "\n",
    "    return parameters, costs"
   ]
  },
  {
   "cell_type": "code",
   "execution_count": 13,
   "metadata": {},
   "outputs": [
    {
     "name": "stdout",
     "output_type": "stream",
     "text": [
      "Cost after 0 iterations is  0.6840883986029915\n"
     ]
    },
    {
     "name": "stdout",
     "output_type": "stream",
     "text": [
      "Cost after 200 iterations is  0.23367918424626558\n",
      "Cost after 400 iterations is  0.128724540598816\n",
      "Cost after 600 iterations is  0.09493563189001304\n",
      "Cost after 800 iterations is  0.07571345006087923\n",
      "Cost after 1000 iterations is  0.06517668691373986\n",
      "Cost after 1200 iterations is  0.058880155375477174\n",
      "Cost after 1400 iterations is  0.054629606232337626\n",
      "Cost after 1600 iterations is  0.05152746624650888\n",
      "Cost after 1800 iterations is  0.04913347473822351\n",
      "Cost after 2000 iterations is  0.04721530752097485\n",
      "Cost after 2200 iterations is  0.04562623186333657\n",
      "Cost after 2400 iterations is  0.044279685941531984\n",
      "Cost after 2600 iterations is  0.04311003565899545\n",
      "Cost after 2800 iterations is  0.04208042133263575\n",
      "Cost after 2999 iterations is  0.04116634733305378\n"
     ]
    }
   ],
   "source": [
    "#Train the model \n",
    "parameters, costs = model(X_train, y_train, layers, iterations=3000, print_cost=True)"
   ]
  },
  {
   "cell_type": "code",
   "execution_count": 14,
   "metadata": {},
   "outputs": [
    {
     "data": {
      "image/png": "[encoded data removed]",
      "text/plain": [
       "<Figure size 432x288 with 1 Axes>"
      ]
     },
     "metadata": {
      "needs_background": "light"
     },
     "output_type": "display_data"
    }
   ],
   "source": [
    "plt.plot(costs)\n",
    "plt.xlabel('Iterations (per 500)')\n",
    "plt.ylabel('Cost')\n",
    "plt.title('Learning curve')\n",
    "plt.show()"
   ]
  },
  {
   "cell_type": "code",
   "execution_count": 17,
   "metadata": {},
   "outputs": [
    {
     "data": {
      "text/plain": [
       "(784, 12000)"
      ]
     },
     "execution_count": 17,
     "metadata": {},
     "output_type": "execute_result"
    }
   ],
   "source": [
    "X_train.shape"
   ]
  },
  {
   "cell_type": "code",
   "execution_count": 18,
   "metadata": {},
   "outputs": [
    {
     "data": {
      "text/plain": [
       "(1, 12000)"
      ]
     },
     "execution_count": 18,
     "metadata": {},
     "output_type": "execute_result"
    }
   ],
   "source": [
    "y_train.shape"
   ]
  },
  {
   "cell_type": "code",
   "execution_count": 32,
   "metadata": {},
   "outputs": [],
   "source": [
    "predictions_train = (forward_propagation(X_train, parameters)[0] > 0.5).astype(int)\n",
    "predictions_test = (forward_propagation(X_test, parameters)[0] > 0.5).astype(int)\n"
   ]
  },
  {
   "cell_type": "code",
   "execution_count": 33,
   "metadata": {},
   "outputs": [
    {
     "data": {
      "text/plain": [
       "array([[0, 0, 1, ..., 1, 1, 0]])"
      ]
     },
     "execution_count": 33,
     "metadata": {},
     "output_type": "execute_result"
    }
   ],
   "source": [
    "predictions_train"
   ]
  },
  {
   "cell_type": "code",
   "execution_count": 35,
   "metadata": {},
   "outputs": [
    {
     "data": {
      "text/plain": [
       "0.9868333333333333"
      ]
     },
     "execution_count": 35,
     "metadata": {},
     "output_type": "execute_result"
    }
   ],
   "source": [
    "training_accuracy = np.mean(predictions_train == y_train)\n",
    "training_accuracy\n"
   ]
  },
  {
   "cell_type": "code",
   "execution_count": 36,
   "metadata": {},
   "outputs": [
    {
     "data": {
      "text/plain": [
       "0.9815"
      ]
     },
     "execution_count": 36,
     "metadata": {},
     "output_type": "execute_result"
    }
   ],
   "source": [
    "test_accuracy = np.mean(predictions_test == y_test)\n",
    "test_accuracy"
   ]
  },
  {
   "cell_type": "code",
   "execution_count": null,
   "metadata": {},
   "outputs": [],
   "source": []
  },
  {
   "cell_type": "code",
   "execution_count": null,
   "metadata": {},
   "outputs": [],
   "source": []
  }
 ],
 "metadata": {
  "kernelspec": {
   "display_name": "base",
   "language": "python",
   "name": "python3"
  },
  "language_info": {
   "codemirror_mode": {
    "name": "ipython",
    "version": 3
   },
   "file_extension": ".py",
   "mimetype": "text/x-python",
   "name": "python",
   "nbconvert_exporter": "python",
   "pygments_lexer": "ipython3",
   "version": "3.9.12"
  }
 },
 "nbformat": 4,
 "nbformat_minor": 2
}
